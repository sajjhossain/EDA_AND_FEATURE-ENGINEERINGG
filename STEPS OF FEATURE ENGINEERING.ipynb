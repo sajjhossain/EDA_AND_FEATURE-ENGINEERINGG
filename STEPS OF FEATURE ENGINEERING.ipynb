{
 "cells": [
  {
   "cell_type": "markdown",
   "id": "908c84ab",
   "metadata": {},
   "source": [
    "# STEP 1 = Exploratory Data Analysis (EDA)\n",
    "        EDA is perfomed in several steps.\n",
    "        \n",
    "        as soon as we get the raw data we need to notice few things on the data, those are given below-\n",
    "            1. How many numerical features may be there.(for this type of features we can draw different diagrams such as histogram, pdf function by using different libraries such as matplotlib and seaborn)\n",
    "            2. How many categorical festures may be there.\n",
    "            3. is there an missing values.(Visualize all the graps)\n",
    "            4. finding outliers. (by using boxplot)\n",
    "            5. cleaning data."
   ]
  },
  {
   "cell_type": "markdown",
   "id": "b22e84d8",
   "metadata": {},
   "source": [
    "# STEP 2 \n",
    "\n",
    "1. Handing the missing values.( by mean, median, mode)"
   ]
  },
  {
   "cell_type": "markdown",
   "id": "16cf34c2",
   "metadata": {},
   "source": [
    "# STEP 3 \n",
    "Handing imbalanced data set."
   ]
  },
  {
   "cell_type": "markdown",
   "id": "408092b8",
   "metadata": {},
   "source": [
    "# STEP 4 \n",
    "\n",
    "Treating the outliers"
   ]
  },
  {
   "cell_type": "markdown",
   "id": "b8f4b71f",
   "metadata": {},
   "source": [
    "# STEP 5\n",
    "\n",
    "Scaling down the data ( Standardization, normalization"
   ]
  },
  {
   "cell_type": "markdown",
   "id": "bf90c62a",
   "metadata": {},
   "source": [
    "# STEP 6\n",
    "\n",
    "Converting the categorical features into numerical. ( using labelEncoder, OneHotEncoder)"
   ]
  },
  {
   "cell_type": "code",
   "execution_count": null,
   "id": "b8bce899",
   "metadata": {},
   "outputs": [],
   "source": []
  },
  {
   "cell_type": "code",
   "execution_count": 1,
   "id": "ccb2d67f",
   "metadata": {},
   "outputs": [],
   "source": [
    "# Main goal for EDA and Feature Engineering is to turn the raw data into useful data."
   ]
  },
  {
   "cell_type": "code",
   "execution_count": null,
   "id": "8b44b7a0",
   "metadata": {},
   "outputs": [],
   "source": []
  },
  {
   "cell_type": "markdown",
   "id": "394e7a04",
   "metadata": {},
   "source": [
    "# For feature selection\n",
    "\n",
    "1. correlation\n",
    "2. K Neighbours\n",
    "3. chi square\n",
    "4. Genetic Algorithms\n",
    "5. Feature Importance"
   ]
  },
  {
   "cell_type": "code",
   "execution_count": null,
   "id": "da018dc0",
   "metadata": {},
   "outputs": [],
   "source": []
  }
 ],
 "metadata": {
  "kernelspec": {
   "display_name": "Python 3 (ipykernel)",
   "language": "python",
   "name": "python3"
  },
  "language_info": {
   "codemirror_mode": {
    "name": "ipython",
    "version": 3
   },
   "file_extension": ".py",
   "mimetype": "text/x-python",
   "name": "python",
   "nbconvert_exporter": "python",
   "pygments_lexer": "ipython3",
   "version": "3.10.9"
  }
 },
 "nbformat": 4,
 "nbformat_minor": 5
}
